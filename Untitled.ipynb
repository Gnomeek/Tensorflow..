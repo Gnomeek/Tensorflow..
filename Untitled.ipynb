{
 "cells": [
  {
   "cell_type": "code",
   "execution_count": 1,
   "metadata": {},
   "outputs": [
    {
     "data": {
      "text/plain": [
       "'1.9.0'"
      ]
     },
     "execution_count": 1,
     "metadata": {},
     "output_type": "execute_result"
    }
   ],
   "source": [
    "import tensorflow as tf\n",
    "tf.VERSION"
   ]
  },
  {
   "cell_type": "code",
   "execution_count": 5,
   "metadata": {},
   "outputs": [
    {
     "name": "stdout",
     "output_type": "stream",
     "text": [
      "b'hello you god damn tensorflow'\n"
     ]
    }
   ],
   "source": [
    "hello = tf.constant('hello you god damn tensorflow')\n",
    "sess = tf.Session()\n",
    "print(sess.run(hello))"
   ]
  },
  {
   "cell_type": "code",
   "execution_count": 6,
   "metadata": {},
   "outputs": [
    {
     "name": "stdout",
     "output_type": "stream",
     "text": [
      "node1: Tensor(\"Const_1:0\", shape=(), dtype=float32) node2: Tensor(\"Const_2:0\", shape=(), dtype=float32)\n",
      "node3: Tensor(\"Add:0\", shape=(), dtype=float32)\n"
     ]
    }
   ],
   "source": [
    "node1 = tf.constant(3.0, tf.float32)\n",
    "node2 = tf.constant(4.0)\n",
    "node3 = tf.add(node1, node2)\n",
    "print('node1:', node1, 'node2:', node2)\n",
    "print('node3:', node3)"
   ]
  },
  {
   "cell_type": "code",
   "execution_count": 7,
   "metadata": {},
   "outputs": [
    {
     "name": "stdout",
     "output_type": "stream",
     "text": [
      "sess.run(node1,node2): [3.0, 4.0]\n",
      "sess.run(node3): 7.0\n"
     ]
    }
   ],
   "source": [
    "sess = tf.Session()\n",
    "print('sess.run(node1,node2):', sess.run([node1, node2]))\n",
    "print('sess.run(node3):', sess.run(node3))"
   ]
  },
  {
   "cell_type": "code",
   "execution_count": 8,
   "metadata": {},
   "outputs": [
    {
     "name": "stdout",
     "output_type": "stream",
     "text": [
      "14.299999\n",
      "[6. 9.]\n"
     ]
    }
   ],
   "source": [
    "a = tf.placeholder(tf.float32)\n",
    "b = tf.placeholder(tf.float32)\n",
    "adder_node = a+b\n",
    "\n",
    "print(sess.run(adder_node, feed_dict={a: 3.6, b: 10.7}))\n",
    "print(sess.run(adder_node, feed_dict={a: [1, 3], b: [5, 6]}))"
   ]
  },
  {
   "cell_type": "code",
   "execution_count": 9,
   "metadata": {},
   "outputs": [
    {
     "data": {
      "text/plain": [
       "[[[1.0, 4.0], [[4, 6]]]]"
      ]
     },
     "execution_count": 9,
     "metadata": {},
     "output_type": "execute_result"
    }
   ],
   "source": [
    "3\n",
    "[1, 3, 4]\n",
    "[[1, 45, 617], [51, 2512, 71]]\n",
    "[[[1., 4.], [[4, 6]]]]"
   ]
  },
  {
   "cell_type": "markdown",
   "metadata": {},
   "source": [
    "## Linear Regression"
   ]
  },
  {
   "cell_type": "code",
   "execution_count": 10,
   "metadata": {},
   "outputs": [
    {
     "ename": "AttributeError",
     "evalue": "module 'tensorflow' has no attribute 'mul'",
     "output_type": "error",
     "traceback": [
      "\u001b[0;31m---------------------------------------------------------------------------\u001b[0m",
      "\u001b[0;31mAttributeError\u001b[0m                            Traceback (most recent call last)",
      "\u001b[0;32m<ipython-input-10-7eeb4bd0de3b>\u001b[0m in \u001b[0;36m<module>\u001b[0;34m\u001b[0m\n\u001b[0;32m----> 1\u001b[0;31m \u001b[0my_model\u001b[0m\u001b[0;34m=\u001b[0m\u001b[0mtf\u001b[0m\u001b[0;34m.\u001b[0m\u001b[0mmul\u001b[0m\u001b[0;34m(\u001b[0m\u001b[0mX\u001b[0m\u001b[0;34m,\u001b[0m\u001b[0mw\u001b[0m\u001b[0;34m)\u001b[0m\u001b[0;31m#linear function\u001b[0m\u001b[0;34m\u001b[0m\u001b[0m\n\u001b[0m\u001b[1;32m      2\u001b[0m \u001b[0mcost\u001b[0m\u001b[0;34m=\u001b[0m\u001b[0mtf\u001b[0m\u001b[0;34m.\u001b[0m\u001b[0msquare\u001b[0m\u001b[0;34m(\u001b[0m\u001b[0mY\u001b[0m\u001b[0;34m-\u001b[0m\u001b[0my_model\u001b[0m\u001b[0;34m)\u001b[0m\u001b[0;31m#cost fuction\u001b[0m\u001b[0;34m\u001b[0m\u001b[0m\n\u001b[1;32m      3\u001b[0m \u001b[0mtrain_op\u001b[0m\u001b[0;34m=\u001b[0m\u001b[0mtf\u001b[0m\u001b[0;34m.\u001b[0m\u001b[0mtrain\u001b[0m\u001b[0;34m.\u001b[0m\u001b[0mGradientDescentOptimizer\u001b[0m\u001b[0;34m(\u001b[0m\u001b[0;36m0.01\u001b[0m\u001b[0;34m)\u001b[0m\u001b[0;34m.\u001b[0m\u001b[0mminimize\u001b[0m\u001b[0;34m(\u001b[0m\u001b[0mcost\u001b[0m\u001b[0;34m)\u001b[0m\u001b[0;31m#try to get the min cost of the convex function\u001b[0m\u001b[0;34m\u001b[0m\u001b[0m\n",
      "\u001b[0;31mAttributeError\u001b[0m: module 'tensorflow' has no attribute 'mul'"
     ]
    }
   ],
   "source": [
    "y_model = tf.mul(X, w)  # linear function\n",
    "cost = tf.square(Y-y_model)  # cost fuction\n",
    "train_op = tf.train.GradientDescentOptimizer(0.01).minimize(\n",
    "    cost)  # try to get the min cost of the convex function"
   ]
  },
  {
   "cell_type": "code",
   "execution_count": 11,
   "metadata": {
    "scrolled": true
   },
   "outputs": [
    {
     "name": "stdout",
     "output_type": "stream",
     "text": [
      "0 38.676563 [-1.6816611] [-0.45753348]\n",
      "20 0.39789006 [0.5163445] [0.47543538]\n",
      "40 0.046494115 [0.73636675] [0.5398808]\n",
      "60 0.03937179 [0.76754266] [0.5227724]\n",
      "80 0.035732195 [0.7802561] [0.4989909]\n",
      "100 0.032452345 [0.79075354] [0.47561505]\n",
      "120 0.029473709 [0.8006036] [0.45327002]\n",
      "140 0.026768522 [0.80997604] [0.43196872]\n",
      "160 0.024311593 [0.8189066] [0.41166788]\n",
      "180 0.022080166 [0.8274174] [0.392321]\n",
      "200 0.020053575 [0.8355281] [0.37388328]\n",
      "220 0.01821298 [0.84325767] [0.35631216]\n",
      "240 0.016541332 [0.85062397] [0.33956683]\n",
      "260 0.01502308 [0.8576441] [0.32360837]\n",
      "280 0.01364421 [0.8643343] [0.3084]\n",
      "300 0.012391872 [0.87071013] [0.29390633]\n",
      "320 0.011254509 [0.8767862] [0.28009382]\n",
      "340 0.010221527 [0.8825769] [0.26693043]\n",
      "360 0.009283346 [0.8880953] [0.25438565]\n",
      "380 0.008431285 [0.8933544] [0.24243045]\n",
      "400 0.007657416 [0.8983665] [0.23103711]\n",
      "420 0.0069546103 [0.9031428] [0.2201792]\n",
      "440 0.006316278 [0.90769476] [0.20983161]\n",
      "460 0.0057365373 [0.9120327] [0.19997026]\n",
      "480 0.0052100173 [0.91616684] [0.19057243]\n",
      "500 0.004731824 [0.92010677] [0.1816162]\n",
      "520 0.0042975233 [0.9238614] [0.1730809]\n",
      "540 0.003903076 [0.9274397] [0.16494675]\n",
      "560 0.0035448319 [0.93084973] [0.15719484]\n",
      "580 0.0032194841 [0.93409956] [0.14980727]\n",
      "600 0.0029239766 [0.93719655] [0.14276685]\n",
      "620 0.0026556014 [0.94014823] [0.13605732]\n",
      "640 0.002411863 [0.942961] [0.1296631]\n",
      "660 0.00219049 [0.9456417] [0.12356936]\n",
      "680 0.001989433 [0.94819623] [0.11776204]\n",
      "700 0.001806838 [0.9506309] [0.11222766]\n",
      "720 0.0016409963 [0.9529511] [0.10695334]\n",
      "740 0.0014903765 [0.95516217] [0.10192696]\n",
      "760 0.0013535923 [0.9572694] [0.09713677]\n",
      "780 0.0012293545 [0.9592775] [0.09257171]\n",
      "800 0.0011165175 [0.9611914] [0.08822117]\n",
      "820 0.0010140372 [0.9630152] [0.08407509]\n",
      "840 0.00092096574 [0.9647534] [0.08012386]\n",
      "860 0.0008364332 [0.9664098] [0.07635836]\n",
      "880 0.00075966446 [0.96798843] [0.07276981]\n",
      "900 0.0006899392 [0.96949273] [0.06934992]\n",
      "920 0.0006266177 [0.97092664] [0.0660907]\n",
      "940 0.0005690983 [0.97229296] [0.06298467]\n",
      "960 0.0005168668 [0.9735951] [0.06002462]\n",
      "980 0.00046942607 [0.97483605] [0.05720367]\n",
      "1000 0.00042634003 [0.9760186] [0.05451528]\n",
      "1020 0.00038720865 [0.9771456] [0.05195328]\n",
      "1040 0.00035166775 [0.9782198] [0.04951167]\n",
      "1060 0.0003193933 [0.9792432] [0.0471848]\n",
      "1080 0.0002900771 [0.9802188] [0.04496737]\n",
      "1100 0.00026345297 [0.9811485] [0.04285404]\n",
      "1120 0.00023927225 [0.9820344] [0.04084005]\n",
      "1140 0.00021731056 [0.98287874] [0.03892072]\n",
      "1160 0.00019736587 [0.98368335] [0.03709158]\n",
      "1180 0.00017925077 [0.98445016] [0.03534842]\n",
      "1200 0.00016279641 [0.985181] [0.03368716]\n",
      "1220 0.0001478565 [0.9858774] [0.03210397]\n",
      "1240 0.00013428401 [0.9865411] [0.03059523]\n",
      "1260 0.000121958554 [0.9871736] [0.02915736]\n",
      "1280 0.00011076553 [0.9877764] [0.02778709]\n",
      "1300 0.0001006003 [0.9883508] [0.02648122]\n",
      "1320 9.136589e-05 [0.98889834] [0.0252367]\n",
      "1340 8.2979735e-05 [0.98942006] [0.02405069]\n",
      "1360 7.5362645e-05 [0.98991734] [0.02292037]\n",
      "1380 6.844603e-05 [0.9903912] [0.0218431]\n",
      "1400 6.216366e-05 [0.9908428] [0.02081651]\n",
      "1420 5.6457502e-05 [0.9912732] [0.01983818]\n",
      "1440 5.1274972e-05 [0.9916833] [0.01890583]\n",
      "1460 4.6568763e-05 [0.99207413] [0.01801733]\n",
      "1480 4.2294574e-05 [0.99244666] [0.01717056]\n",
      "1500 3.8412913e-05 [0.99280167] [0.01636358]\n",
      "1520 3.4887275e-05 [0.99313986] [0.01559456]\n",
      "1540 3.1685424e-05 [0.9934623] [0.01486169]\n",
      "1560 2.8777597e-05 [0.9937696] [0.01416326]\n",
      "1580 2.61362e-05 [0.99406236] [0.01349763]\n",
      "1600 2.3736613e-05 [0.99434143] [0.01286329]\n",
      "1620 2.1558562e-05 [0.9946073] [0.01225876]\n",
      "1640 1.9579373e-05 [0.9948607] [0.01168268]\n",
      "1660 1.7782912e-05 [0.9951022] [0.01113368]\n",
      "1680 1.6150696e-05 [0.9953325] [0.01061044]\n",
      "1700 1.4668181e-05 [0.9955518] [0.01011178]\n",
      "1720 1.3321823e-05 [0.99576086] [0.00963654]\n",
      "1740 1.2099219e-05 [0.9959601] [0.00918365]\n",
      "1760 1.098847e-05 [0.99614996] [0.00875205]\n",
      "1780 9.979595e-06 [0.99633086] [0.00834075]\n",
      "1800 9.0640615e-06 [0.9965033] [0.00794876]\n",
      "1820 8.232203e-06 [0.9966676] [0.00757523]\n",
      "1840 7.4763616e-06 [0.99682426] [0.00721921]\n",
      "1860 6.790154e-06 [0.9969735] [0.00687993]\n",
      "1880 6.1671567e-06 [0.9971158] [0.0065566]\n",
      "1900 5.6010317e-06 [0.9972513] [0.00624847]\n",
      "1920 5.087113e-06 [0.99738044] [0.00595482]\n",
      "1940 4.619974e-06 [0.9975035] [0.00567499]\n",
      "1960 4.196139e-06 [0.9976209] [0.00540829]\n",
      "1980 3.8106916e-06 [0.9977327] [0.00515413]\n"
     ]
    }
   ],
   "source": [
    "# data\n",
    "x_train = [1, 2, 3]\n",
    "y_train = [1, 2, 3]\n",
    "\n",
    "# cost function\n",
    "W = tf.Variable(tf.random_normal([1]), name='weight')\n",
    "b = tf.Variable(tf.random_normal([1]), name='bias')\n",
    "hypothesis = x_train*W+b\n",
    "\n",
    "cost = tf.reduce_mean(tf.square(hypothesis-y_train))\n",
    "\n",
    "# minimize\n",
    "optimizer = tf.train.GradientDescentOptimizer(learning_rate=0.01)\n",
    "train = optimizer.minimize(cost)\n",
    "\n",
    "# launch the graph in session\n",
    "sess = tf.Session()\n",
    "sess.run(tf.global_variables_initializer())\n",
    "for step in range(2000):\n",
    "    sess.run(train)\n",
    "    if step % 20 == 0:\n",
    "        print(step, sess.run(cost), sess.run(W), sess.run(b))"
   ]
  },
  {
   "cell_type": "code",
   "execution_count": null,
   "metadata": {},
   "outputs": [],
   "source": []
  }
 ],
 "metadata": {
  "kernelspec": {
   "display_name": "Python [conda env:tf36]",
   "language": "python",
   "name": "conda-env-tf36-py"
  },
  "language_info": {
   "codemirror_mode": {
    "name": "ipython",
    "version": 3
   },
   "file_extension": ".py",
   "mimetype": "text/x-python",
   "name": "python",
   "nbconvert_exporter": "python",
   "pygments_lexer": "ipython3",
   "version": "3.6.2"
  },
  "varInspector": {
   "cols": {
    "lenName": 16,
    "lenType": 16,
    "lenVar": 40
   },
   "kernels_config": {
    "python": {
     "delete_cmd_postfix": "",
     "delete_cmd_prefix": "del ",
     "library": "var_list.py",
     "varRefreshCmd": "print(var_dic_list())"
    },
    "r": {
     "delete_cmd_postfix": ") ",
     "delete_cmd_prefix": "rm(",
     "library": "var_list.r",
     "varRefreshCmd": "cat(var_dic_list()) "
    }
   },
   "types_to_exclude": [
    "module",
    "function",
    "builtin_function_or_method",
    "instance",
    "_Feature"
   ],
   "window_display": false
  }
 },
 "nbformat": 4,
 "nbformat_minor": 2
}
